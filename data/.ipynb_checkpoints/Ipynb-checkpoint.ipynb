{
 "cells": [
  {
   "cell_type": "raw",
   "metadata": {},
   "source": [
    "sources: http://www.wikihow.com/Calculate-Blood-Alcohol-Content-(Widmark-Formula), http://www.teamdui.com/bac-widmarks-formula/"
   ]
  },
  {
   "cell_type": "code",
   "execution_count": 1,
   "metadata": {
    "collapsed": false
   },
   "outputs": [],
   "source": [
    "import pandas as pd\n",
    "import numpy as np\n",
    "import random"
   ]
  },
  {
   "cell_type": "code",
   "execution_count": 2,
   "metadata": {
    "collapsed": false
   },
   "outputs": [],
   "source": [
    "conditions = pd.read_csv('conditions.csv')\n",
    "alc_df = pd.read_csv('alc_general.csv')\n",
    "states_df = pd.read_csv('drunks.csv')\n",
    "\n",
    "alc_dict = alc_df.set_index('alc')['abv'].to_dict()\n",
    "states_dict = states_df.set_index('label')['bac'].to_dict()\n",
    "genders = {'male': 0.73, 'female': 0.66}\n",
    "conditions_dict = conditions.set_index('Condition')['times_per_show'].to_dict()"
   ]
  },
  {
   "cell_type": "code",
   "execution_count": 145,
   "metadata": {
    "collapsed": true
   },
   "outputs": [],
   "source": [
    "def get_sips(state, weight, gender, alcohol):\n",
    "    abv = float(alc_dict[alcohol])\n",
    "    bac = float(states_dict[state])\n",
    "    r = float(genders[gender])\n",
    "    sips = (weight*r*(bac + 0.03))/(10.28*abv)\n",
    "    print sips"
   ]
  },
  {
   "cell_type": "code",
   "execution_count": 147,
   "metadata": {
    "collapsed": false
   },
   "outputs": [
    {
     "name": "stdout",
     "output_type": "stream",
     "text": [
      "70.4460116732\n"
     ]
    }
   ],
   "source": [
    "get_sips('blackout', 133.0, 'female', 'beer')"
   ]
  },
  {
   "cell_type": "code",
   "execution_count": 3,
   "metadata": {
    "collapsed": true
   },
   "outputs": [],
   "source": [
    "def get_list(sips):\n",
    "    s = 0\n",
    "    l = []\n",
    "    while s <= sips:\n",
    "        c = random.choice(conditions_dict.items())\n",
    "        l.append(c[0])\n",
    "        s = s + c[1]\n",
    "        print s\n",
    "    return l\n",
    "        "
   ]
  },
  {
   "cell_type": "code",
   "execution_count": 4,
   "metadata": {
    "collapsed": false
   },
   "outputs": [
    {
     "name": "stdout",
     "output_type": "stream",
     "text": [
      "1\n",
      "2\n",
      "3\n",
      "4\n",
      "6\n",
      "7\n",
      "9\n",
      "11\n",
      "12\n",
      "13\n",
      "14\n",
      "15\n",
      "17\n",
      "18\n",
      "19\n",
      "20\n",
      "21\n",
      "23\n",
      "24\n",
      "26\n"
     ]
    },
    {
     "data": {
      "text/plain": [
       "['Chad eats a cold cut',\n",
       " 'Someone calls Lace crazy',\n",
       " 'Nick talks about being runner-up in a past season',\n",
       " 'Amanda talks about her kids',\n",
       " '2 people are accused of \"talking\" before the show',\n",
       " 'Daniel mentions Canada',\n",
       " '2 people are accused of \"talking\" before the show',\n",
       " 'A crew member comes into frame',\n",
       " 'Nick talks about being runner-up in a past season',\n",
       " 'Chris Harrison uses the word \"shocking\"',\n",
       " 'Vinny mentions New Jersey',\n",
       " 'Someone says something mean about Amanda having kids',\n",
       " 'Someone says \"I\\'m not ready to leave paradise\"',\n",
       " 'Someone insists they are there for the \"right reasons\"',\n",
       " 'Daniel mentions Canada',\n",
       " 'Nick talks about being runner-up in a past season',\n",
       " 'Someone goes skinny-dipping',\n",
       " 'A crew member comes into frame',\n",
       " 'Amanda talks about her kids',\n",
       " 'A crew member comes into frame']"
      ]
     },
     "execution_count": 4,
     "metadata": {},
     "output_type": "execute_result"
    }
   ],
   "source": [
    "get_list(25)"
   ]
  },
  {
   "cell_type": "code",
   "execution_count": 156,
   "metadata": {
    "collapsed": false
   },
   "outputs": [
    {
     "data": {
      "text/plain": [
       "{'2 people are accused of \"talking\" before the show': 2,\n",
       " 'A body part is blurred / black-boxed': 2,\n",
       " 'A couple makes out in the hottub': 2,\n",
       " 'A crab is shown': 1,\n",
       " 'A crew member comes into frame': 2,\n",
       " 'Amanda talks about her kids': 1,\n",
       " 'An ambulance is called': 2,\n",
       " 'Chad eats a cold cut': 1,\n",
       " 'Chris Harrison uses the word \"dramatic\"': 1,\n",
       " 'Chris Harrison uses the word \"shocking\"': 1,\n",
       " 'Daniel mentions Canada': 1,\n",
       " 'Evan mentions getting over JoJo': 1,\n",
       " 'Evan talks sh*t about Chad': 1,\n",
       " 'Lace mumbles incoherently': 1,\n",
       " 'Nick talks about being runner-up in a past season': 1,\n",
       " 'Somebody cries': 1,\n",
       " 'Someone asks the bartender for advice': 2,\n",
       " 'Someone calls Lace crazy': 1,\n",
       " 'Someone confuses the twins': 2,\n",
       " 'Someone goes skinny-dipping': 1,\n",
       " 'Someone hooks up with 2 people in 1 night': 2,\n",
       " 'Someone insists they are there for the \"right reasons\"': 1,\n",
       " 'Someone mentions their \"journey\"': 1,\n",
       " 'Someone says \"I\\'m falling for you\"': 1,\n",
       " 'Someone says \"I\\'m not ready to leave paradise\"': 2,\n",
       " 'Someone says something mean about Amanda having kids': 1,\n",
       " 'Someone says they are scared of Chad': 1,\n",
       " \"The twins finish each other's sentences\": 1,\n",
       " 'Vinny mentions New Jersey': 1}"
      ]
     },
     "execution_count": 156,
     "metadata": {},
     "output_type": "execute_result"
    }
   ],
   "source": [
    "conditions_dict"
   ]
  },
  {
   "cell_type": "code",
   "execution_count": 5,
   "metadata": {
    "collapsed": false
   },
   "outputs": [
    {
     "data": {
      "text/plain": [
       "[0.20000000000000001,\n",
       " 0.040000000000000001,\n",
       " 0.080000000000000002,\n",
       " 0.20000000000000001,\n",
       " 0.059999999999999998]"
      ]
     },
     "execution_count": 5,
     "metadata": {},
     "output_type": "execute_result"
    }
   ],
   "source": [
    "alc_dict.values()"
   ]
  },
  {
   "cell_type": "code",
   "execution_count": 13,
   "metadata": {
    "collapsed": false
   },
   "outputs": [],
   "source": [
    "def ways(sips):\n",
    "    if sips == 0:\n",
    "        return True\n",
    "    posibility_list = [ways(sips - a) for a in alc_dict.values()]\n",
    "    return sum(posibility_list)\n",
    "\n",
    "\n"
   ]
  },
  {
   "cell_type": "code",
   "execution_count": 14,
   "metadata": {
    "collapsed": false
   },
   "outputs": [
    {
     "ename": "RuntimeError",
     "evalue": "maximum recursion depth exceeded in cmp",
     "output_type": "error",
     "traceback": [
      "\u001b[0;31m---------------------------------------------------------------------------\u001b[0m",
      "\u001b[0;31mRuntimeError\u001b[0m                              Traceback (most recent call last)",
      "\u001b[0;32m<ipython-input-14-080b8c83eec2>\u001b[0m in \u001b[0;36m<module>\u001b[0;34m()\u001b[0m\n\u001b[0;32m----> 1\u001b[0;31m \u001b[0mways\u001b[0m\u001b[0;34m(\u001b[0m\u001b[0;36m29\u001b[0m\u001b[0;34m)\u001b[0m\u001b[0;34m\u001b[0m\u001b[0m\n\u001b[0m",
      "\u001b[0;32m<ipython-input-13-3873bbae4bb6>\u001b[0m in \u001b[0;36mways\u001b[0;34m(sips)\u001b[0m\n\u001b[1;32m      2\u001b[0m     \u001b[0;32mif\u001b[0m \u001b[0msips\u001b[0m \u001b[0;34m==\u001b[0m \u001b[0;36m0\u001b[0m\u001b[0;34m:\u001b[0m\u001b[0;34m\u001b[0m\u001b[0m\n\u001b[1;32m      3\u001b[0m         \u001b[0;32mreturn\u001b[0m \u001b[0mTrue\u001b[0m\u001b[0;34m\u001b[0m\u001b[0m\n\u001b[0;32m----> 4\u001b[0;31m     \u001b[0mposibility_list\u001b[0m \u001b[0;34m=\u001b[0m \u001b[0;34m[\u001b[0m\u001b[0mways\u001b[0m\u001b[0;34m(\u001b[0m\u001b[0msips\u001b[0m \u001b[0;34m-\u001b[0m \u001b[0ma\u001b[0m\u001b[0;34m)\u001b[0m \u001b[0;32mfor\u001b[0m \u001b[0ma\u001b[0m \u001b[0;32min\u001b[0m \u001b[0malc_dict\u001b[0m\u001b[0;34m.\u001b[0m\u001b[0mvalues\u001b[0m\u001b[0;34m(\u001b[0m\u001b[0;34m)\u001b[0m\u001b[0;34m]\u001b[0m\u001b[0;34m\u001b[0m\u001b[0m\n\u001b[0m\u001b[1;32m      5\u001b[0m     \u001b[0;32mreturn\u001b[0m \u001b[0msum\u001b[0m\u001b[0;34m(\u001b[0m\u001b[0mposibility_list\u001b[0m\u001b[0;34m)\u001b[0m\u001b[0;34m\u001b[0m\u001b[0m\n\u001b[1;32m      6\u001b[0m \u001b[0;34m\u001b[0m\u001b[0m\n",
      "... last 1 frames repeated, from the frame below ...\n",
      "\u001b[0;32m<ipython-input-13-3873bbae4bb6>\u001b[0m in \u001b[0;36mways\u001b[0;34m(sips)\u001b[0m\n\u001b[1;32m      2\u001b[0m     \u001b[0;32mif\u001b[0m \u001b[0msips\u001b[0m \u001b[0;34m==\u001b[0m \u001b[0;36m0\u001b[0m\u001b[0;34m:\u001b[0m\u001b[0;34m\u001b[0m\u001b[0m\n\u001b[1;32m      3\u001b[0m         \u001b[0;32mreturn\u001b[0m \u001b[0mTrue\u001b[0m\u001b[0;34m\u001b[0m\u001b[0m\n\u001b[0;32m----> 4\u001b[0;31m     \u001b[0mposibility_list\u001b[0m \u001b[0;34m=\u001b[0m \u001b[0;34m[\u001b[0m\u001b[0mways\u001b[0m\u001b[0;34m(\u001b[0m\u001b[0msips\u001b[0m \u001b[0;34m-\u001b[0m \u001b[0ma\u001b[0m\u001b[0;34m)\u001b[0m \u001b[0;32mfor\u001b[0m \u001b[0ma\u001b[0m \u001b[0;32min\u001b[0m \u001b[0malc_dict\u001b[0m\u001b[0;34m.\u001b[0m\u001b[0mvalues\u001b[0m\u001b[0;34m(\u001b[0m\u001b[0;34m)\u001b[0m\u001b[0;34m]\u001b[0m\u001b[0;34m\u001b[0m\u001b[0m\n\u001b[0m\u001b[1;32m      5\u001b[0m     \u001b[0;32mreturn\u001b[0m \u001b[0msum\u001b[0m\u001b[0;34m(\u001b[0m\u001b[0mposibility_list\u001b[0m\u001b[0;34m)\u001b[0m\u001b[0;34m\u001b[0m\u001b[0m\n\u001b[1;32m      6\u001b[0m \u001b[0;34m\u001b[0m\u001b[0m\n",
      "\u001b[0;31mRuntimeError\u001b[0m: maximum recursion depth exceeded in cmp"
     ]
    }
   ],
   "source": [
    "ways(29)"
   ]
  },
  {
   "cell_type": "code",
   "execution_count": null,
   "metadata": {
    "collapsed": true
   },
   "outputs": [],
   "source": [
    "def change(coins, amounts, highest, sum, goal):\n",
    "    # See if we are done.\n",
    "    if sum == goal:\n",
    "        print \"done\"\n",
    "        return\n",
    "\n",
    "    if sum > goal:\n",
    "    return\n",
    "\n",
    "    for value in amounts:\n",
    "    if value >= highest:\n",
    "\t    # Copy the coins list, then add the current value.\n",
    "\t    copy = coins[:]\n",
    "\t    copy.append(value)\n",
    "\t    # Recursively add more coins.\n",
    "\t    change(copy, amounts, value, sum + value, goal)\n",
    "\n",
    "def display(coins, amounts):\n",
    "    # Display our coins sorted by amount.\n",
    "    for amount in amounts:\n",
    "\tcount = coins.count(amount)\n",
    "\tprint(amount, \":\", count)\n",
    "    print(\"\")\n",
    "\n",
    "coins = []\n",
    "amounts = [1, 5, 10, 25, 50]\n",
    "# Begin.\n",
    "change(coins, amounts, 0, 0, 51)"
   ]
  }
 ],
 "metadata": {
  "kernelspec": {
   "display_name": "Python 2",
   "language": "python",
   "name": "python2"
  },
  "language_info": {
   "codemirror_mode": {
    "name": "ipython",
    "version": 2
   },
   "file_extension": ".py",
   "mimetype": "text/x-python",
   "name": "python",
   "nbconvert_exporter": "python",
   "pygments_lexer": "ipython2",
   "version": "2.7.12"
  }
 },
 "nbformat": 4,
 "nbformat_minor": 0
}
